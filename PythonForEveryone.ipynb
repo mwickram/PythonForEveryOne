{
 "cells": [
  {
   "cell_type": "code",
   "execution_count": 29,
   "metadata": {},
   "outputs": [
    {
     "name": "stdout",
     "output_type": "stream",
     "text": [
      "zqian@umich.edu 195\n",
      "mmmay@indiana.edu 161\n",
      "cwen@iupui.edu 158\n",
      "chmaurer@iupui.edu 111\n",
      "aaronz@vt.edu 110\n",
      "ian@caret.cam.ac.uk 96\n",
      "jimeng@umich.edu 93\n",
      "rjlowe@iupui.edu 90\n",
      "dlhaines@umich.edu 84\n",
      "david.horwitz@uct.ac.za 67\n"
     ]
    }
   ],
   "source": [
    "#### WEEK -2 ###\n",
    "import sqlite3\n",
    "\n",
    "conn = sqlite3.connect('emaildb.sqlite')\n",
    "cur = conn.cursor()\n",
    "\n",
    "cur.execute('DROP TABLE IF EXISTS Counts')\n",
    "\n",
    "cur.execute('''\n",
    "CREATE TABLE Counts (email TEXT, count INTEGER)''')\n",
    "\n",
    "fname = 'mbox.txt'\n",
    "if (len(fname) < 1): fname = 'mbox-short.txt'\n",
    "fh = open(fname)\n",
    "for line in fh:\n",
    "    if not line.startswith('From: '): continue\n",
    "    pieces = line.split()\n",
    "    email = pieces[1]\n",
    "    \n",
    "    cur.execute('SELECT count FROM Counts WHERE email = ? ', (email,))\n",
    "    row = cur.fetchone()\n",
    "    if row is None:\n",
    "        cur.execute('''INSERT INTO Counts (email, count)\n",
    "                VALUES (?, 1)''', (email,))\n",
    "    else:\n",
    "        cur.execute('UPDATE Counts SET count = count + 1 WHERE email = ?',\n",
    "                    (email,))\n",
    "    conn.commit()\n",
    "\n",
    "# https://www.sqlite.org/lang_select.html\n",
    "sqlstr = 'SELECT email, count FROM Counts ORDER BY count DESC LIMIT 10'\n",
    "\n",
    "for row in cur.execute(sqlstr):\n",
    "    print(str(row[0]), row[1])\n",
    "    \n",
    "\n",
    "cur.close()"
   ]
  },
  {
   "cell_type": "code",
   "execution_count": 32,
   "metadata": {},
   "outputs": [
    {
     "name": "stdout",
     "output_type": "stream",
     "text": [
      "uct.ac.za 96\n",
      "media.berkeley.edu 56\n",
      "umich.edu 491\n",
      "iupui.edu 536\n",
      "caret.cam.ac.uk 157\n",
      "gmail.com 25\n",
      "indiana.edu 178\n",
      "et.gatech.edu 17\n",
      "vt.edu 110\n",
      "lancaster.ac.uk 14\n",
      "ucdavis.edu 1\n",
      "ufp.pt 28\n",
      "txstate.edu 17\n",
      "stanford.edu 12\n",
      "whitman.edu 17\n",
      "rsmart.com 8\n",
      "fhda.edu 1\n",
      "bu.edu 14\n",
      "unicon.net 9\n",
      "loi.nl 9\n",
      "utoronto.ca 1\n"
     ]
    }
   ],
   "source": [
    "import sqlite3\n",
    "\n",
    "conn_email = sqlite3.connect('emaildb.sqlite')\n",
    "cur_email = conn_email.cursor()\n",
    "\n",
    "sqlstr_email = 'SELECT * FROM Counts'\n",
    "\n",
    "##new db\n",
    "conn_org = sqlite3.connect('orgdb.sqlite')\n",
    "cur_org = conn_org.cursor()\n",
    "cur_org.execute('DROP TABLE IF EXISTS Counts')\n",
    "\n",
    "cur_org.execute('''CREATE TABLE Counts (org TEXT, count INTEGER)''')\n",
    "\n",
    "\n",
    "#row = cur.fetchone()\n",
    "\n",
    "for row in cur_email.execute(sqlstr_email):\n",
    "    email = row[0].split('@')\n",
    "    org = email[1]\n",
    "    count = row[1]\n",
    "    \n",
    "    cur_org.execute('SELECT count FROM Counts WHERE org = ? ', (org,))\n",
    "    row_org = cur_org.fetchone()\n",
    "    \n",
    "    if row_org is None:\n",
    "        cur_org.execute('''INSERT INTO Counts(org, count) VALUES (?, ?)''', (org, count))\n",
    "    else:\n",
    "        org_count = row_org[0] + count\n",
    "        cur_org.execute('UPDATE Counts SET count = '+ str(org_count) + ' WHERE org = ?', (org,))\n",
    "\n",
    "    conn_org.commit()\n",
    "    \n",
    "for row in cur_org.execute(\"SELECT * FROM Counts\"):\n",
    "    print(str(row[0]), row[1])\n",
    "\n",
    "cur_org.close()\n",
    "cur_email.close()"
   ]
  }
 ],
 "metadata": {
  "kernelspec": {
   "display_name": "Python 3",
   "language": "python",
   "name": "python3"
  },
  "language_info": {
   "codemirror_mode": {
    "name": "ipython",
    "version": 3
   },
   "file_extension": ".py",
   "mimetype": "text/x-python",
   "name": "python",
   "nbconvert_exporter": "python",
   "pygments_lexer": "ipython3",
   "version": "3.7.4"
  }
 },
 "nbformat": 4,
 "nbformat_minor": 2
}
